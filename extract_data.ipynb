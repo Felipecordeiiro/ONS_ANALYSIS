{
 "cells": [
  {
   "cell_type": "code",
   "execution_count": 1,
   "metadata": {},
   "outputs": [
    {
     "name": "stdout",
     "output_type": "stream",
     "text": [
      "[2000, 2001, 2002, 2003, 2004, 2005, 2006, 2007, 2008, 2009, 2010, 2011, 2012, 2013, 2014, 2015, 2016, 2017, 2018, 2019, 2020, 2021, 2022, 2023, 2024, 2025]\n"
     ]
    }
   ],
   "source": [
    "from urllib import request\n",
    "import os\n",
    "\n",
    "periodo_dados_hidrologicos = list(range(2000, 2025+1, 1))\n",
    "print(periodo_dados_hidrologicos)"
   ]
  },
  {
   "cell_type": "code",
   "execution_count": null,
   "metadata": {},
   "outputs": [],
   "source": [
    "for ano in periodo_dados_hidrologicos:\n",
    "    url = f\"https://ons-aws-prod-opendata.s3.amazonaws.com/dataset/dados_hidrologicos_di/DADOS_HIDROLOGICOS_RES_{ano}.csv\"\n",
    "    directory_atual = os.getcwd()\n",
    "    directory_save = os.path.join(directory_atual, \"data\\hidrologicos\")\n",
    "    os.makedirs(directory_save, exist_ok=True)\n",
    "    source_file = f\"{directory_save}\\DADOS_HIDROLOGICOS_RES_{ano}.csv\"\n",
    "    \n",
    "    request.urlretrieve(url , source_file )"
   ]
  }
 ],
 "metadata": {
  "kernelspec": {
   "display_name": "Python 3",
   "language": "python",
   "name": "python3"
  },
  "language_info": {
   "codemirror_mode": {
    "name": "ipython",
    "version": 3
   },
   "file_extension": ".py",
   "mimetype": "text/x-python",
   "name": "python",
   "nbconvert_exporter": "python",
   "pygments_lexer": "ipython3",
   "version": "3.11.7"
  }
 },
 "nbformat": 4,
 "nbformat_minor": 2
}
